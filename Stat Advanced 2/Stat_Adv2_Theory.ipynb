{
  "cells": [
    {
      "cell_type": "markdown",
      "metadata": {},
      "source": [
        "# Statistics Advanced 2 - Hypothesis Testing"
      ]
    },
    {
      "cell_type": "markdown",
      "metadata": {},
      "source": [
        "### **1. What is hypothesis testing in statistics?**"
      ]
    },
    {
      "cell_type": "markdown",
      "metadata": {},
      "source": [
        "**Hypothesis testing** is a statistical method used to make decisions or inferences about population parameters based on sample data.\n",
        "It involves proposing a hypothesis and then using statistical evidence to accept or reject it."
      ]
    },
    {
      "cell_type": "markdown",
      "metadata": {},
      "source": [
        "### **2. What is the null hypothesis, and how does it differ from the alternative hypothesis?**"
      ]
    },
    {
      "cell_type": "markdown",
      "metadata": {},
      "source": [
        "- The **null hypothesis ($H_0$)** is a default statement that there is no effect or no difference.\n",
        "- The **alternative hypothesis ($H_1$ or $H_a$)** suggests that there is an effect or a difference.\n",
        "- Hypothesis testing determines whether there is enough statistical evidence to reject $H_0$ in favor of $H_1$."
      ]
    },
    {
      "cell_type": "markdown",
      "metadata": {},
      "source": [
        "### **3. What is the significance level in hypothesis testing, and why is it important?**"
      ]
    },
    {
      "cell_type": "markdown",
      "metadata": {},
      "source": [
        "The **significance level ($alpha$)** is the probability of rejecting the null hypothesis when it is actually true (Type I error).\n",
        "- Common choices are 0.05, 0.01, or 0.10.\n",
        "- It sets the threshold for how extreme the test statistic must be to reject $H_0$."
      ]
    },
    {
      "cell_type": "markdown",
      "metadata": {},
      "source": [
        "### **4. What does a P-value represent in hypothesis testing?**"
      ]
    },
    {
      "cell_type": "markdown",
      "metadata": {},
      "source": [
        "The **P-value** is the probability of observing a test statistic at least as extreme as the one observed,\n",
        "assuming the null hypothesis is true. It quantifies the evidence against $H_0$."
      ]
    },
    {
      "cell_type": "markdown",
      "metadata": {},
      "source": [
        "### **5. How do you interpret the P-value in hypothesis testing?**"
      ]
    },
    {
      "cell_type": "markdown",
      "metadata": {},
      "source": [
        "- If the **P-value ≤ α**, reject the null hypothesis → sufficient evidence against $H_0$.\n",
        "- If the **P-value > α**, fail to reject $H_0$ → insufficient evidence against $H_0$.\n",
        "- A lower P-value indicates stronger evidence against $H_0$."
      ]
    },
    {
      "cell_type": "markdown",
      "metadata": {},
      "source": [
        "### **6. What are Type 1 and Type 2 errors in hypothesis testing?**"
      ]
    },
    {
      "cell_type": "markdown",
      "metadata": {},
      "source": [
        "- **Type I Error**: Rejecting $H_0$ when it is true (false positive).\n",
        "  - Probability = $\\alpha$\n",
        "- **Type II Error**: Failing to reject $H_0$ when it is false (false negative).\n",
        "  - Probability = $\\beta$\n",
        "- Reducing one typically increases the other."
      ]
    },
    {
      "cell_type": "markdown",
      "metadata": {},
      "source": [
        "### **7. What is the difference between a one-tailed and a two-tailed test in hypothesis testing?**"
      ]
    },
    {
      "cell_type": "markdown",
      "metadata": {},
      "source": [
        "- A **one-tailed test** checks if the parameter is either greater than or less than a value.\n",
        "- A **two-tailed test** checks for any significant difference (greater than or less than).\n",
        "- Two-tailed tests divide the significance level between both ends of the distribution."
      ]
    },
    {
      "cell_type": "markdown",
      "metadata": {},
      "source": [
        "### **8. What is the Z-test, and when is it used in hypothesis testing?**"
      ]
    },
    {
      "cell_type": "markdown",
      "metadata": {},
      "source": [
        "- A **Z-test** is used when the population variance is known and the sample size is large ($n ge 30$).\n",
        "- It tests the population mean or proportion using the Z-distribution.\n",
        "- Common in industrial and quality control settings."
      ]
    },
    {
      "cell_type": "markdown",
      "metadata": {},
      "source": [
        "### **9. How do you calculate the Z-score, and what does it represent in hypothesis testing?**"
      ]
    },
    {
      "cell_type": "markdown",
      "metadata": {},
      "source": [
        "- Formula:  \n",
        "  $$Z = \\frac{\\bar{X} - \\mu}{\\sigma / \\sqrt{n}}$$\n",
        "- It represents how many population SD, the sample mean is away from the population mean.\n",
        "- Higher absolute Z indicates stronger evidence against $H_0$, though the decision of the testing depends on the given *Significance Level*."
      ]
    },
    {
      "cell_type": "markdown",
      "metadata": {},
      "source": [
        "### **10. What is the T-distribution, and when should it be used instead of the normal distribution?**"
      ]
    },
    {
      "cell_type": "markdown",
      "metadata": {},
      "source": [
        "- The **T-distribution** (t-test) is used instead of the normal distribution (z-test) when the sample size is small ($n < 30$) and population standard deviation is *unknown*.\n",
        "- It is wider and has heavier tails than the normal distribution.\n",
        "- *As sample size increases, T approaches the standard normal distribution*."
      ]
    },
    {
      "cell_type": "markdown",
      "metadata": {},
      "source": [
        "### **11. What is the difference between a Z-test and a T-test?**"
      ]
    },
    {
      "cell_type": "markdown",
      "metadata": {},
      "source": [
        "| Feature         | Z-test                                | T-test                                |\n",
        "|-----------------|----------------------------------------|----------------------------------------|\n",
        "| Population Variance Known  | Yes                                    | No                                     |\n",
        "| Sample Size     | Large ($n \\ge 30$)                    | Small ($n < 30$)                       |\n",
        "| Distribution    | Standard Normal                       | Student’s t-distribution               |\n"
      ]
    },
    {
      "cell_type": "markdown",
      "metadata": {},
      "source": [
        "### **12. What is the T-test, and how is it used in hypothesis testing?**"
      ]
    },
    {
      "cell_type": "markdown",
      "metadata": {},
      "source": [
        "- A **T-test** is used to determine if there is a significant difference between the means of two groups.\n",
        "- It is applied when the population standard deviation is unknown and the sample size is small.\n",
        "- Common types: one-sample t-test, two-sample t-test, paired t-test."
      ]
    },
    {
      "cell_type": "markdown",
      "metadata": {},
      "source": [
        "### **13. What is the relationship between Z-test and T-test in hypothesis testing?**"
      ]
    },
    {
      "cell_type": "markdown",
      "metadata": {},
      "source": [
        "- Both are used to test hypotheses about population means.\n",
        "- **Z-test** assumes known population variance; **T-test** is used when variance is unknown and the population sd is estimated by sample sd.\n",
        "- T-distribution converges to normal distribution as sample size increases."
      ]
    },
    {
      "cell_type": "markdown",
      "metadata": {},
      "source": [
        "### **14. What is a confidence interval, and how is it used to interpret statistical results?**"
      ]
    },
    {
      "cell_type": "markdown",
      "metadata": {},
      "source": [
        "- A **confidence interval (CI)** gives a range of values likely to contain a population parameter.\n",
        "- It is calculated from the sample statistic ± margin of error.\n",
        "- A 95% CI means we are 95% confident that the true parameter lies in the interval."
      ]
    },
    {
      "cell_type": "markdown",
      "metadata": {},
      "source": [
        "### **15. What is the margin of error, and how does it affect the confidence interval?**"
      ]
    },
    {
      "cell_type": "markdown",
      "metadata": {},
      "source": [
        "- The **margin of error** is the maximum acceptable difference between the sample statistic and the population parameter.\n",
        "- Larger margin of error → wider confidence interval.\n",
        "- It depends on standard deviation, sample size, and confidence level.\n",
        "- Relation:\n",
        "  $$CI = \\bar{X} \\pm {Z}_{\\alpha} \\frac{\\sigma}{\\sqrt{n}}$$"
      ]
    },
    {
      "cell_type": "markdown",
      "metadata": {},
      "source": [
        "### **16. How is Bayes' Theorem used in statistics, and what is its significance?**"
      ]
    },
    {
      "cell_type": "markdown",
      "metadata": {},
      "source": [
        "- **Bayes' Theorem** calculates the probability of an event based on prior knowledge of related conditions.\n",
        "- Formula:  \n",
        "  $$P(A|B) = \\frac{P(B|A) P(A)}{P(B)}$$\n",
        "- It is essential in Bayesian inference, machine learning, and decision-making under uncertainty."
      ]
    },
    {
      "cell_type": "markdown",
      "metadata": {},
      "source": [
        "### **17. What is the Chi-square distribution, and when is it used?**"
      ]
    },
    {
      "cell_type": "markdown",
      "metadata": {},
      "source": [
        "- A **Chi-square distribution** is a continuous distribution used primarily in categorical data analysis.\n",
        "- Chi-Squared distribution is the sum of squared standard normal variables.\n",
        "- Mostly used in goodness-of-fit tests, independence tests, and variance testing, as a Non-Parametric test since Chi-Sq distribution only depends on the Degrees of Freedom"
      ]
    },
    {
      "cell_type": "markdown",
      "metadata": {},
      "source": [
        "### **18. What is the Chi-square goodness of fit test, and how is it applied?**"
      ]
    },
    {
      "cell_type": "markdown",
      "metadata": {},
      "source": [
        "- The **Chi-square goodness of fit test** evaluates whether an observed frequency distribution differs from a theoretical distribution.\n",
        "- Test statistic:  \n",
        "  $$\\chi^2 = \\sum \\frac{(O_i - E_i)^2}{E_i}$$\n",
        "  O : Observed, E: Expected\n",
        "- Applied in categorical data to test distributions such as uniform, binomial, etc. And it is a Non-Parametric Test"
      ]
    },
    {
      "cell_type": "markdown",
      "metadata": {},
      "source": [
        "### **19. What is the F-distribution, and when is it used in hypothesis testing?**"
      ]
    },
    {
      "cell_type": "markdown",
      "metadata": {},
      "source": [
        "- The **F-distribution** is a **right-skewed** and a Non-Negative distribution used in **comparing variances**.\n",
        "- F Distribution the **ratio of two chi-square** distributions divided by their degrees of freedom.\n",
        "- Commonly used in **ANOVA** and **F-tests**."
      ]
    },
    {
      "cell_type": "markdown",
      "metadata": {},
      "source": [
        "### **20. What is an ANOVA test, and what are its assumptions?**"
      ]
    },
    {
      "cell_type": "markdown",
      "metadata": {},
      "source": [
        "- **ANOVA (Analysis of Variance)** is used to compare means across multiple groups.\n",
        "- Assumptions:\n",
        "  - Independence of observations\n",
        "  - Normally distributed populations\n",
        "  - Homogeneity of variances(Homoscedasticity)\n",
        "- Uses F-statistic to evaluate group mean differences."
      ]
    },
    {
      "cell_type": "markdown",
      "metadata": {},
      "source": [
        "### **21. What are the different types of ANOVA tests?**"
      ]
    },
    {
      "cell_type": "markdown",
      "metadata": {},
      "source": [
        "- **One-way ANOVA**: Compares means of 3 or more independent groups.\n",
        "- **Two-way ANOVA**: Evaluates the effect of two independent variables.\n",
        "- **Repeated measures ANOVA**: Tests differences when the same subjects are measured multiple times."
      ]
    },
    {
      "cell_type": "markdown",
      "metadata": {},
      "source": [
        "### **22. What is the F-test, and how does it relate to hypothesis testing?**"
      ]
    },
    {
      "cell_type": "markdown",
      "metadata": {},
      "source": [
        "- An **F-test** is used to compare two variances or test multiple means (as in ANOVA).\n",
        "- Test statistic: ratio of sample variances.\n",
        "- Used to determine if variances are equal (homogeneity of variance) and to support ANOVA results."
      ]
    }
  ],
  "metadata": {
    "kernelspec": {
      "display_name": "Python 3",
      "language": "python",
      "name": "python3"
    },
    "language_info": {
      "name": "python",
      "version": "3.8"
    }
  },
  "nbformat": 4,
  "nbformat_minor": 5
}
