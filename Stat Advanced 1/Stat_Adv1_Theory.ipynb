{
  "cells": [
    {
      "cell_type": "markdown",
      "metadata": {},
      "source": [
        "# Statistics Advance 1 - Probability Distributions Theory "
      ]
    },
    {
      "cell_type": "markdown",
      "metadata": {},
      "source": [
        "### **1. What is a random variable in probability theory?**"
      ]
    },
    {
      "cell_type": "markdown",
      "metadata": {},
      "source": [
        "A **random variable** is a variable whose possible values are numerical outcomes of a random phenomenon.\n",
        "- It maps outcomes of a random experiment to numerical values.\n",
        "- Random variables can be either *discrete* (having countable outcomes) or *continuous* (uncountable outcomes like real numbers)."
      ]
    },
    {
      "cell_type": "markdown",
      "metadata": {},
      "source": [
        "### **2. What are the types of random variables?**"
      ]
    },
    {
      "cell_type": "markdown",
      "metadata": {},
      "source": [
        "There are two primary types of random variables:\n",
        "1. **Discrete Random Variable** — takes countable values (e.g., number of heads in coin tosses).\n",
        "2. **Continuous Random Variable** — takes values from an uncountably infinite set (e.g., time, temperature)."
      ]
    },
    {
      "cell_type": "markdown",
      "metadata": {},
      "source": [
        "### **3. What is the difference between discrete and continuous distributions?**"
      ]
    },
    {
      "cell_type": "markdown",
      "metadata": {},
      "source": [
        "- **Discrete distributions** describe the probability of outcomes of a *discrete* random variable.\n",
        "  - Examples: Bernoulli, Binomial, Poisson\n",
        "- **Continuous distributions** describe the behavior of *continuous* random variables.\n",
        "  - Examples: Normal, Exponential, Uniform (continuous)"
      ]
    },
    {
      "cell_type": "markdown",
      "metadata": {},
      "source": [
        "### **4. What are probability distribution functions (PDF)?**"
      ]
    },
    {
      "cell_type": "markdown",
      "metadata": {},
      "source": [
        "A **Probability Distribution Function (PDF)** describes the likelihood of a random variable taking on a specific value (for discrete) or range of values (for continuous):\n",
        "- For **discrete variables**, it's called a **probability mass function (PMF)**.\n",
        "- For **continuous variables**, PDF gives density rather than exact probability."
      ]
    },
    {
      "cell_type": "markdown",
      "metadata": {},
      "source": [
        "### **5. How do cumulative distribution functions (CDF) differ from probability distribution functions (PDF)?**"
      ]
    },
    {
      "cell_type": "markdown",
      "metadata": {},
      "source": [
        "- A **CDF** gives the probability that a random variable $X$ is less than or equal to a particular value $x$:  \n",
        "  $$F(x) = P(X \\le x)$$\n",
        "- A **PDF** describes the relative likelihood for the variable to take on a specific value (only for continuous variables).\n",
        "- The **CDF** is obtained by integrating the PDF (in continuous case) or summing the PMF (in discrete case)."
      ]
    },
    {
      "cell_type": "markdown",
      "metadata": {},
      "source": [
        "### **6. What is a discrete uniform distribution?**"
      ]
    },
    {
      "cell_type": "markdown",
      "metadata": {},
      "source": [
        "A **discrete uniform distribution** assigns equal probability to all outcomes in a finite set.\n",
        "- Example: Rolling a fair die,  \n",
        "  $$P(X = x) = 1/6 \\quad \\quad \\text{for} \\quad x = 1,2,...,6$$\n",
        "- Each value has the same probability:  \n",
        "\n",
        "$$ P(X = x) = \\frac{1}{n} \\quad \\quad\t\\text{for} \\quad x {\\in } {x_1, x_2, ..., x_n} $$"
      ]
    },
    {
      "cell_type": "markdown",
      "metadata": {},
      "source": [
        "### **7. What are the key properties of a Bernoulli distribution?**"
      ]
    },
    {
      "cell_type": "markdown",
      "metadata": {},
      "source": [
        "- A **Bernoulli distribution** models a binary outcome: success (1) or failure (0).\n",
        "- Probability mass function:\n",
        "  $$P(X = x) = p^x (1 - p)^{1 - x}, \\quad x \\in \\{0, 1\\}$$\n",
        "- Expected value: $E[X] = p$\n",
        "- Variance: $Var(X) = p(1 - p)$"
      ]
    },
    {
      "cell_type": "markdown",
      "metadata": {},
      "source": [
        "### **8. What is the binomial distribution, and how is it used in probability?**"
      ]
    },
    {
      "cell_type": "markdown",
      "metadata": {},
      "source": [
        "- The **binomial distribution** represents the number of successes in $n$ independent Bernoulli trials with probability $p$.\n",
        "- PMF:  \n",
        "  $$P(X = k) = {n \\choose k} p^k (1 - p)^{n - k}$$\n",
        "- Applications: Coin tosses, quality control, yes/no surveys"
      ]
    },
    {
      "cell_type": "markdown",
      "metadata": {},
      "source": [
        "### **9. What is the Poisson distribution and where is it applied?**"
      ]
    },
    {
      "cell_type": "markdown",
      "metadata": {},
      "source": [
        "- The **Poisson distribution** models the number of times an event occurs in a fixed interval of time or space.\n",
        "- PMF:  \n",
        "  $$P(X = k) = \\frac{\\lambda^k e^{-\\lambda}}{k!}$$\n",
        "- Mean and variance: $\\lambda$\n",
        "- Applications: arrival of calls, radioactive decay, typing errors"
      ]
    },
    {
      "cell_type": "markdown",
      "metadata": {},
      "source": [
        "### **10. What is a continuous uniform distribution?**"
      ]
    },
    {
      "cell_type": "markdown",
      "metadata": {},
      "source": [
        "A **continuous uniform distribution** has constant probability over an interval $[a, b]$.\n",
        "- PDF:  \n",
        "  $$f(x) = \\frac{1}{b - a}, \\quad a \\le x \\le b$$\n",
        "- CDF:  \n",
        "  $$F(x) = \\frac{x - a}{b - a}, \\quad a \\le x \\le b$$\n",
        "- Mean: $\\mu = \\frac{a + b}{2}$\n",
        "- Variance: $\\sigma^2 = \\frac{(b - a)^2}{12}$"
      ]
    },
    {
      "cell_type": "markdown",
      "metadata": {},
      "source": [
        "### **11. What are the characteristics of a normal distribution?**"
      ]
    },
    {
      "cell_type": "markdown",
      "metadata": {},
      "source": [
        "- Bell-shaped and symmetric about the mean\n",
        "- Defined by mean $mu$ and standard deviation $sigma$\n",
        "- PDF:  \n",
        "  $$f(x) = \\frac{1}{\\sigma \\sqrt{2 \\pi}} e^{-\\frac{(x - \\mu)^2}{2\\sigma^2}}$$\n",
        "- Area under the curve is 1\n",
        "- Used in natural and social sciences for real-valued random variables"
      ]
    },
    {
      "cell_type": "markdown",
      "metadata": {},
      "source": [
        "### **12. What is the standard normal distribution, and why is it important?**"
      ]
    },
    {
      "cell_type": "markdown",
      "metadata": {},
      "source": [
        "- A **standard normal distribution** is a normal distribution with:\n",
        "  - Mean: $\\mu = 0$\n",
        "  - Standard deviation: $\\sigma = 1$\n",
        "- Denoted by $Z \\sim N(0, 1)$\n",
        "- Used for computing z-scores and statistical inference (hypothesis testing, confidence intervals)\n",
        "- Simplifies calculations and helps standardize different datasets"
      ]
    },
    {
      "cell_type": "markdown",
      "id": "e0248d20",
      "metadata": {},
      "source": []
    },
    {
      "cell_type": "markdown",
      "metadata": {},
      "source": [
        "### **13. What is the Central Limit Theorem (CLT), and why is it critical in statistics?**"
      ]
    },
    {
      "cell_type": "markdown",
      "metadata": {},
      "source": [
        "The **Central Limit Theorem (CLT)** states that *the distribution of sample means approximates to a normal distribution as the sample size increases, regardless of the population's original distribution*.\n",
        "\n",
        "- It allows us to make inferences about population parameters using sample statistics.\n",
        "\n",
        "- The CLT justifies the use of normal distribution in hypothesis testing and confidence intervals."
      ]
    },
    {
      "cell_type": "markdown",
      "metadata": {},
      "source": [
        "### **14. How does the Central Limit Theorem relate to the normal distribution?**"
      ]
    },
    {
      "cell_type": "markdown",
      "metadata": {},
      "source": [
        "- According to CLT, the sampling distribution of the mean becomes **approximately normal** when the sample size is large enough (typically $n >= 30$).\n",
        "\n",
        "- Even if the population distribution is not normal, the **distribution of sample means** will be normal.\n",
        "\n",
        "- This enables the application of **normal-based inference techniques** like z-tests."
      ]
    },
    {
      "cell_type": "markdown",
      "metadata": {},
      "source": [
        "### **15. What is the application of Z statistic in hypothesis testing?**"
      ]
    },
    {
      "cell_type": "markdown",
      "metadata": {},
      "source": [
        "- **Z-statistic** are used when the population standard deviation is known, and the sampling distribution is normal.\n",
        "\n",
        "- Z-tests are used to determine whether to **reject the null hypothesis**.\n",
        "\n",
        "- Expression of Z-Stat:\n",
        "  $$Z = \\frac {\\sqrt{n} (\\bar{X} - \\mu)}{\\sigma}$$"
      ]
    },
    {
      "cell_type": "markdown",
      "metadata": {},
      "source": [
        "### **16. How do you calculate a Z-score, and what does it represent?**"
      ]
    },
    {
      "cell_type": "markdown",
      "metadata": {},
      "source": [
        "- A **Z-score** measures how many standard deviations an individual data point is away from the mean.\n",
        "\n",
        "- Formula:\n",
        "  $$Z = \\frac{X - \\mu}{\\sigma}$$\n",
        "\n",
        "- Interpretation:\n",
        "  - $Z = 0$: Value is at the mean\n",
        "  - $Z > 0$: Value above the mean\n",
        "  - $Z < 0$: Value below the mean"
      ]
    },
    {
      "cell_type": "markdown",
      "metadata": {},
      "source": [
        "### **17. What are point estimates and interval estimates in statistics?**"
      ]
    },
    {
      "cell_type": "markdown",
      "metadata": {},
      "source": [
        "- A **point estimate** is a single value estimate of a population parameter (e.g., sample mean).\n",
        "\n",
        "- An **interval estimate** provides a range within which the parameter is expected to lie (e.g., confidence interval)."
      ]
    },
    {
      "cell_type": "markdown",
      "metadata": {},
      "source": [
        "### **18. What is the significance of confidence intervals in statistical analysis?**"
      ]
    },
    {
      "cell_type": "markdown",
      "metadata": {},
      "source": [
        "- A **confidence interval (CI)** gives a range of plausible values for a population parameter.\n",
        "\n",
        "- It reflects the **uncertainty** due to sampling error.\n",
        "\n",
        "- A 95% CI means that in 95% of the samples, the interval would contain the true parameter."
      ]
    },
    {
      "cell_type": "markdown",
      "metadata": {},
      "source": [
        "### **19. What is the relationship between a Z-score and a confidence interval?**"
      ]
    },
    {
      "cell_type": "markdown",
      "metadata": {},
      "source": [
        "- The **Z-score** determines the width of the confidence interval when the population standard deviation is known.\n",
        "\n",
        "- For example, a 95% CI uses $Z = 1.96$:\n",
        "  $$CI = \\bar{x} \\pm {Z}_{\\alpha/2} \\cdot \\frac{\\sigma}{\\sqrt{n}}$$"
      ]
    },
    {
      "cell_type": "markdown",
      "metadata": {},
      "source": [
        "### **20. How are Z-scores used to compare different distributions?**"
      ]
    },
    {
      "cell_type": "markdown",
      "metadata": {},
      "source": [
        "- **Z-scores** standardize different distributions to a common scale.\n",
        "\n",
        "- Allow comparison of values from distributions with different means and standard deviations.\n",
        "\n",
        "- Example: Compare test scores from different exams with different scales."
      ]
    },
    {
      "cell_type": "markdown",
      "metadata": {},
      "source": [
        "### **21. What are the assumptions for applying the Central Limit Theorem?**"
      ]
    },
    {
      "cell_type": "markdown",
      "metadata": {},
      "source": [
        "- Random and independent sampling\n",
        "\n",
        "- Identically distributed population\n",
        "\n",
        "- Sample size should be sufficiently large ($n \\geq 30$ for most cases)\n",
        "\n",
        "- No extreme skewness or outliers if $n$ is small"
      ]
    },
    {
      "cell_type": "markdown",
      "metadata": {},
      "source": [
        "### **22. What is the concept of expected value in a probability distribution?**"
      ]
    },
    {
      "cell_type": "markdown",
      "metadata": {},
      "source": [
        "- The **expected value** is the long-term average or mean value of a random variable.\n",
        "\n",
        "- For discrete $X$:\n",
        "  $$E[X] = \\sum x_i P(x_i)$$\n",
        "\n",
        "- For continuous $X$:\n",
        "  $$E[X] = \\int_{-\\infty}^{\\infty} x f(x) dx$$"
      ]
    },
    {
      "cell_type": "markdown",
      "metadata": {},
      "source": [
        "### **23. How does a probability distribution relate to the expected outcome of a random variable?**"
      ]
    },
    {
      "cell_type": "markdown",
      "metadata": {},
      "source": [
        "- A **probability distribution** defines the likelihood of all possible values a random variable can take.\n",
        "\n",
        "- The **expected value** summarizes the center of that distribution, representing the average outcome if the experiment is repeated many times."
      ]
    }
  ],
  "metadata": {
    "kernelspec": {
      "display_name": "base",
      "language": "python",
      "name": "python3"
    },
    "language_info": {
      "name": "python",
      "version": "3.12.7"
    }
  },
  "nbformat": 4,
  "nbformat_minor": 5
}
